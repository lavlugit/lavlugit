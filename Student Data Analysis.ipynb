{
  "nbformat": 4,
  "nbformat_minor": 0,
  "metadata": {
    "colab": {
      "provenance": [],
      "include_colab_link": true
    },
    "kernelspec": {
      "name": "python3",
      "display_name": "Python 3"
    },
    "language_info": {
      "name": "python"
    }
  },
  "cells": [
    {
      "cell_type": "markdown",
      "metadata": {
        "id": "view-in-github",
        "colab_type": "text"
      },
      "source": [
        "<a href=\"https://colab.research.google.com/github/lavlugit/lavlugit/blob/main/Student%20Data%20Analysis.ipynb\" target=\"_parent\"><img src=\"https://colab.research.google.com/assets/colab-badge.svg\" alt=\"Open In Colab\"/></a>"
      ]
    },
    {
      "cell_type": "markdown",
      "source": [
        "**Student Data Analysis**"
      ],
      "metadata": {
        "id": "QM7PQ4bwuj_R"
      }
    },
    {
      "cell_type": "code",
      "execution_count": 7,
      "metadata": {
        "id": "k0Df0hdkf3wM",
        "colab": {
          "base_uri": "https://localhost:8080/"
        },
        "outputId": "66404d0b-16a6-43c1-dc3c-de3106e75d66"
      },
      "outputs": [
        {
          "output_type": "stream",
          "name": "stdout",
          "text": [
            "<class 'pandas.core.frame.DataFrame'>\n",
            "RangeIndex: 9000 entries, 0 to 8999\n",
            "Data columns (total 10 columns):\n",
            " #   Column           Non-Null Count  Dtype \n",
            "---  ------           --------------  ----- \n",
            " 0   Student_Names    9000 non-null   object\n",
            " 1   Phone_No.        9000 non-null   int64 \n",
            " 2   Math             9000 non-null   int64 \n",
            " 3   Physics          9000 non-null   int64 \n",
            " 4   Chemistry        9000 non-null   int64 \n",
            " 5   Grade            9000 non-null   object\n",
            " 6   Comment          9000 non-null   object\n",
            " 7   Roll No.         9000 non-null   int64 \n",
            " 8   School Name      9000 non-null   object\n",
            " 9   Student Address  9000 non-null   object\n",
            "dtypes: int64(5), object(5)\n",
            "memory usage: 703.3+ KB\n",
            "None\n",
            "-------------------------------------------\n",
            "\n",
            "Minimum marks:\n",
            " Phone_No.    9000052055\n",
            "Math                 10\n",
            "Physics              10\n",
            "Chemistry            10\n",
            "Roll No.         500002\n",
            "dtype: int64\n",
            "\n",
            "Maximum marks:\n",
            " Phone_No.    9999838373\n",
            "Math                100\n",
            "Physics             100\n",
            "Chemistry           100\n",
            "Roll No.         599994\n",
            "dtype: int64\n",
            "\n",
            "Average marks:\n",
            " Phone_No.    9.498521e+09\n",
            "Math         5.527611e+01\n",
            "Physics      5.469756e+01\n",
            "Chemistry    5.485489e+01\n",
            "Roll No.     5.501741e+05\n",
            "dtype: float64\n"
          ]
        }
      ],
      "source": [
        "import pandas as pd\n",
        "import matplotlib.pyplot as plt\n",
        "\n",
        "res=pd.read_csv(\"/content/lavlugit/student_dataset.csv\")\n",
        "\n",
        "df=pd.DataFrame(res)\n",
        "\n",
        "#res.head()\n",
        "\n",
        "print(res.info())\n",
        "\n",
        "print(\"-------------------------------------------\")\n",
        "print(\"\\nMinimum marks:\\n\", df.min(numeric_only=True))\n",
        "print(\"\\nMaximum marks:\\n\", df.max(numeric_only=True))\n",
        "print(\"\\nAverage marks:\\n\", df.mean(numeric_only=True))\n",
        "\n",
        "print(\"----------------------------------------\")\n",
        "\n",
        "for subject in df.columns[1:]:   # skipping 'Name' column\n",
        "    topper = df.loc[df[subject].idxmax()]\n",
        "    print(f\"Topper in {subject}: {topper['Name']} with {topper[subject]} marks\")\n",
        "\n"
      ]
    }
  ]
}