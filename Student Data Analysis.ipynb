{
  "nbformat": 4,
  "nbformat_minor": 0,
  "metadata": {
    "colab": {
      "provenance": [],
      "include_colab_link": true
    },
    "kernelspec": {
      "name": "python3",
      "display_name": "Python 3"
    },
    "language_info": {
      "name": "python"
    }
  },
  "cells": [
    {
      "cell_type": "markdown",
      "metadata": {
        "id": "view-in-github",
        "colab_type": "text"
      },
      "source": [
        "<a href=\"https://colab.research.google.com/github/lavlugit/lavlugit/blob/main/Student%20Data%20Analysis.ipynb\" target=\"_parent\"><img src=\"https://colab.research.google.com/assets/colab-badge.svg\" alt=\"Open In Colab\"/></a>"
      ]
    },
    {
      "cell_type": "markdown",
      "source": [
        "**Student Data Analysis**"
      ],
      "metadata": {
        "id": "QM7PQ4bwuj_R"
      }
    },
    {
      "cell_type": "code",
      "execution_count": 2,
      "metadata": {
        "id": "k0Df0hdkf3wM",
        "colab": {
          "base_uri": "https://localhost:8080/"
        },
        "outputId": "de3d494b-37bb-4551-fa68-bed47678e7f3"
      },
      "outputs": [
        {
          "output_type": "stream",
          "name": "stdout",
          "text": [
            "<class 'pandas.core.frame.DataFrame'>\n",
            "RangeIndex: 9000 entries, 0 to 8999\n",
            "Data columns (total 10 columns):\n",
            " #   Column           Non-Null Count  Dtype \n",
            "---  ------           --------------  ----- \n",
            " 0   Student_Names    9000 non-null   object\n",
            " 1   Phone_No.        9000 non-null   int64 \n",
            " 2   Math             9000 non-null   int64 \n",
            " 3   Physics          9000 non-null   int64 \n",
            " 4   Chemistry        9000 non-null   int64 \n",
            " 5   Grade            9000 non-null   object\n",
            " 6   Comment          9000 non-null   object\n",
            " 7   Roll No.         9000 non-null   int64 \n",
            " 8   School Name      9000 non-null   object\n",
            " 9   Student Address  9000 non-null   object\n",
            "dtypes: int64(5), object(5)\n",
            "memory usage: 703.3+ KB\n",
            "None\n",
            "-------------------------------------------\n",
            "\n",
            "Minimum marks:\n",
            " Phone_No.    9000052055\n",
            "Math                 10\n",
            "Physics              10\n",
            "Chemistry            10\n",
            "Roll No.         500002\n",
            "dtype: int64\n",
            "\n",
            "Maximum marks:\n",
            " Phone_No.    9999838373\n",
            "Math                100\n",
            "Physics             100\n",
            "Chemistry           100\n",
            "Roll No.         599994\n",
            "dtype: int64\n",
            "\n",
            "Average marks:\n",
            " Phone_No.    9.498521e+09\n",
            "Math         5.527611e+01\n",
            "Physics      5.469756e+01\n",
            "Chemistry    5.485489e+01\n",
            "Roll No.     5.501741e+05\n",
            "dtype: float64\n",
            "----------------------------------------\n",
            "Topper in Math: Marilyn Curry with 100 marks (Roll: 523556, School: Martin Luther School)\n",
            "Topper in Physics: Alyssa Douglas with 100 marks (Roll: 597470, School: Martin Luther School)\n",
            "Topper in Chemistry: Brandi Lewis with 100 marks (Roll: 546803, School: Martin Luther School)\n",
            "\n",
            "Pass/Fail Status:\n",
            "        Student_Names Status\n",
            "0   Donald Contreras   Pass\n",
            "1      Joseph Horton   Pass\n",
            "2  Savannah Burns MD   Fail\n",
            "3     William Carter   Fail\n",
            "4     John Rodriguez   Pass\n",
            "5       Natalie Nash   Fail\n",
            "6     Ronald Ellison   Fail\n",
            "7       Robert Perez   Fail\n",
            "8      Marilyn Curry   Fail\n",
            "9  Katherine Lambert   Fail\n"
          ]
        }
      ],
      "source": [
        "import pandas as pd\n",
        "import matplotlib.pyplot as plt\n",
        "\n",
        "res=pd.read_csv(\"/content/lavlugit/student_dataset.csv\")\n",
        "\n",
        "df=pd.DataFrame(res)\n",
        "\n",
        "#res.head()\n",
        "\n",
        "print(res.info())\n",
        "\n",
        "print(\"-------------------------------------------\")\n",
        "print(\"\\nMinimum marks:\\n\", df.min(numeric_only=True))\n",
        "print(\"\\nMaximum marks:\\n\", df.max(numeric_only=True))\n",
        "print(\"\\nAverage marks:\\n\", df.mean(numeric_only=True))\n",
        "\n",
        "print(\"----------------------------------------\")\n",
        "\n",
        "# Define subject columns only\n",
        "subject_cols = [\"Math\", \"Physics\", \"Chemistry\"]\n",
        "\n",
        "# Loop through subjects and find topper\n",
        "for subject in subject_cols:\n",
        "    topper = df.loc[df[subject].idxmax()]\n",
        "    print(f\"Topper in {subject}: {topper['Student_Names']} \"\n",
        "          f\"with {topper[subject]} marks (Roll: {topper['Roll No.']}, School: {topper['School Name']})\")\n",
        "\n",
        "\n",
        "# Define subject columns\n",
        "subject_cols = [\"Math\", \"Physics\", \"Chemistry\"]\n",
        "\n",
        "# Function to check pass/fail\n",
        "def get_status(row):\n",
        "    if (row[subject_cols] < 40).any():   # if any subject < 40\n",
        "        return \"Fail\"\n",
        "    return \"Pass\"\n",
        "\n",
        "# Apply function\n",
        "df[\"Status\"] = df.apply(get_status, axis=1) # new column\n",
        "\n",
        "# Show results\n",
        "print(\"\\nPass/Fail Status:\\n\", df[[\"Student_Names\", \"Status\"]].head(10))\n"
      ]
    }
  ]
}