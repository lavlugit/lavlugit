{
  "nbformat": 4,
  "nbformat_minor": 0,
  "metadata": {
    "colab": {
      "provenance": [],
      "include_colab_link": true
    },
    "kernelspec": {
      "name": "python3",
      "display_name": "Python 3"
    },
    "language_info": {
      "name": "python"
    }
  },
  "cells": [
    {
      "cell_type": "markdown",
      "metadata": {
        "id": "view-in-github",
        "colab_type": "text"
      },
      "source": [
        "<a href=\"https://colab.research.google.com/github/lavlugit/lavlugit/blob/main/Student%20Data%20Analysis.ipynb\" target=\"_parent\"><img src=\"https://colab.research.google.com/assets/colab-badge.svg\" alt=\"Open In Colab\"/></a>"
      ]
    },
    {
      "cell_type": "markdown",
      "source": [
        "**Student Data Analysis**"
      ],
      "metadata": {
        "id": "QM7PQ4bwuj_R"
      }
    },
    {
      "cell_type": "code",
      "execution_count": 5,
      "metadata": {
        "id": "k0Df0hdkf3wM",
        "outputId": "d6da8a69-d1db-4caa-86dd-aeef3c144e8e",
        "colab": {
          "base_uri": "https://localhost:8080/"
        }
      },
      "outputs": [
        {
          "output_type": "stream",
          "name": "stdout",
          "text": [
            "<class 'pandas.core.frame.DataFrame'>\n",
            "RangeIndex: 9000 entries, 0 to 8999\n",
            "Data columns (total 10 columns):\n",
            " #   Column           Non-Null Count  Dtype \n",
            "---  ------           --------------  ----- \n",
            " 0   Student_Names    9000 non-null   object\n",
            " 1   Phone_No.        9000 non-null   int64 \n",
            " 2   Math             9000 non-null   int64 \n",
            " 3   Physics          9000 non-null   int64 \n",
            " 4   Chemistry        9000 non-null   int64 \n",
            " 5   Grade            9000 non-null   object\n",
            " 6   Comment          9000 non-null   object\n",
            " 7   Roll No.         9000 non-null   int64 \n",
            " 8   School Name      9000 non-null   object\n",
            " 9   Student Address  9000 non-null   object\n",
            "dtypes: int64(5), object(5)\n",
            "memory usage: 703.3+ KB\n",
            "None\n"
          ]
        }
      ],
      "source": [
        "import pandas as pd\n",
        "import matplotlib.pyplot as plt\n",
        "\n",
        "res=pd.read_csv(\"/content/lavlugit/student_dataset.csv\")\n",
        "\n",
        "#res.head()\n",
        "\n",
        "print(res.info())\n",
        "\n",
        "print(\"-------------------------------------------\")\n",
        "print(\"\\nMinimum marks:\\n\", df.min(numeric_only=True))\n",
        "print(\"\\nMaximum marks:\\n\", df.max(numeric_only=True))\n",
        "print(\"\\nAverage marks:\\n\", df.mean(numeric_only=True))\n"
      ]
    }
  ]
}